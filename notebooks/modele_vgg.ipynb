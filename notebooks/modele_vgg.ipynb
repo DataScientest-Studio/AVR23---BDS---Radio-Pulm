{
 "cells": [
  {
   "attachments": {},
   "cell_type": "markdown",
   "metadata": {},
   "source": [
    "# Imports"
   ]
  },
  {
   "cell_type": "code",
   "execution_count": 2,
   "metadata": {},
   "outputs": [],
   "source": [
    "# Libraries\n",
    "\n",
    "# Data Analysis\n",
    "import plotly.express as px\n",
    "import matplotlib.pyplot as plt\n",
    "import seaborn as sns\n",
    "\n",
    "#TensorFlow\n",
    "import tensorflow as tf\n",
    "from tensorflow.keras.preprocessing.image import array_to_img\n",
    "\n",
    "# Classes Tensorflow\n",
    "from tensorflow.keras.preprocessing.image import ImageDataGenerator\n",
    "from tensorflow.keras.models import Sequential\n",
    "from tensorflow.keras.layers import Dense, Conv2D, Dropout, Flatten, MaxPooling2D, GlobalAveragePooling2D\n",
    "from tensorflow.keras.applications.vgg16 import VGG16\n",
    "\n",
    "# Sklearn\n",
    "from sklearn.metrics import confusion_matrix, classification_report\n",
    "from sklearn.model_selection import train_test_split\n",
    "\n",
    "# others\n",
    "import pandas as pd\n",
    "import time\n",
    "import numpy as np\n",
    "import random\n",
    "import os\n",
    "\n",
    "from PIL import Image\n",
    "import cv2\n",
    "from IPython.display import display\n",
    "from tqdm import tqdm_notebook\n",
    "import copy # To copy later our best model"
   ]
  },
  {
   "attachments": {},
   "cell_type": "markdown",
   "metadata": {},
   "source": [
    "# Chargement des données"
   ]
  },
  {
   "attachments": {},
   "cell_type": "markdown",
   "metadata": {},
   "source": [
    "## Config"
   ]
  },
  {
   "cell_type": "code",
   "execution_count": 3,
   "metadata": {},
   "outputs": [],
   "source": [
    "# Emplacement\n",
    "path = \"C:/Users/Nina/Documents/GitHub/AVR23---BDS---Radio-Pulm/data/\"     ### A MODIFIER EN LOCAL !!\n",
    "dirs = [\"Normal/images/\",\"COVID/images/\",\"Lung_Opacity/images/\",\"Viral Pneumonia/images/\"]\n",
    "dirsm = [\"Normal/masks/\",\"COVID/masks/\",\"Lung_Opacity/masks/\",\"Viral Pneumonia/masks/\"]\n",
    "dirsim = [\"Normal/masked_images/\",\"COVID/masked_images/\",\"Lung_Opacity/masked_images/\",\"Viral Pneumonia/masked_images/\"]\n",
    "ID_DIR = 7\n",
    "\n",
    "# Images à traiter (brutes ou masquées) et taille échantillon\n",
    "dirs = dirsim\n",
    "ECH_SIZE = 2000 #(max 2000 sur images masquées par seul un échantillon dispo)\n",
    "\n",
    "# Classes de 0 à 3 dans la suite\n",
    "classes = (\"Normal\",\"COVID \",\"Lung_Opacity\",\"Viral Pneumonia\") \n",
    "nbClasses = len(classes)\n",
    "\n",
    "# Paramètres\n",
    "SIZE = (224,224)\n",
    "RATIO_VAL = 0.2 \n",
    "BATCH_SIZE = 42\n",
    "NB_EPOCHS = 10"
   ]
  },
  {
   "attachments": {},
   "cell_type": "markdown",
   "metadata": {},
   "source": [
    "## Dataframe"
   ]
  },
  {
   "cell_type": "code",
   "execution_count": 4,
   "metadata": {},
   "outputs": [
    {
     "data": {
      "text/html": [
       "<div>\n",
       "<style scoped>\n",
       "    .dataframe tbody tr th:only-of-type {\n",
       "        vertical-align: middle;\n",
       "    }\n",
       "\n",
       "    .dataframe tbody tr th {\n",
       "        vertical-align: top;\n",
       "    }\n",
       "\n",
       "    .dataframe thead th {\n",
       "        text-align: right;\n",
       "    }\n",
       "</style>\n",
       "<table border=\"1\" class=\"dataframe\">\n",
       "  <thead>\n",
       "    <tr style=\"text-align: right;\">\n",
       "      <th></th>\n",
       "      <th>filepath</th>\n",
       "      <th>label</th>\n",
       "    </tr>\n",
       "  </thead>\n",
       "  <tbody>\n",
       "    <tr>\n",
       "      <th>0</th>\n",
       "      <td>C:/Users/Nina/Documents/GitHub/AVR23---BDS---R...</td>\n",
       "      <td>3</td>\n",
       "    </tr>\n",
       "    <tr>\n",
       "      <th>1</th>\n",
       "      <td>C:/Users/Nina/Documents/GitHub/AVR23---BDS---R...</td>\n",
       "      <td>0</td>\n",
       "    </tr>\n",
       "    <tr>\n",
       "      <th>2</th>\n",
       "      <td>C:/Users/Nina/Documents/GitHub/AVR23---BDS---R...</td>\n",
       "      <td>2</td>\n",
       "    </tr>\n",
       "    <tr>\n",
       "      <th>3</th>\n",
       "      <td>C:/Users/Nina/Documents/GitHub/AVR23---BDS---R...</td>\n",
       "      <td>1</td>\n",
       "    </tr>\n",
       "    <tr>\n",
       "      <th>4</th>\n",
       "      <td>C:/Users/Nina/Documents/GitHub/AVR23---BDS---R...</td>\n",
       "      <td>2</td>\n",
       "    </tr>\n",
       "  </tbody>\n",
       "</table>\n",
       "</div>"
      ],
      "text/plain": [
       "                                            filepath label\n",
       "0  C:/Users/Nina/Documents/GitHub/AVR23---BDS---R...     3\n",
       "1  C:/Users/Nina/Documents/GitHub/AVR23---BDS---R...     0\n",
       "2  C:/Users/Nina/Documents/GitHub/AVR23---BDS---R...     2\n",
       "3  C:/Users/Nina/Documents/GitHub/AVR23---BDS---R...     1\n",
       "4  C:/Users/Nina/Documents/GitHub/AVR23---BDS---R...     2"
      ]
     },
     "execution_count": 4,
     "metadata": {},
     "output_type": "execute_result"
    }
   ],
   "source": [
    "# Création des 4 listes de noms d'images\n",
    "normal_imgs = [fn for fn in os.listdir(path + dirs[0]) if fn.endswith('.png')]\n",
    "covid_imgs = [fn for fn in os.listdir(path + dirs[1]) if fn.endswith('.png')]\n",
    "pneumonia_imgs = [fn for fn in os.listdir(path + dirs[2]) if fn.endswith('.png')]\n",
    "lung_opacity_imgs = [fn for fn in os.listdir(path + dirs[3]) if fn.endswith('.png')]\n",
    "\n",
    "# Concaténation des emplacements de toutes les images dans une liste unique\n",
    "liste_paths = []\n",
    "for fn in normal_imgs :\n",
    "    liste_paths.append(path + dirs[0] + fn)\n",
    "for fn in covid_imgs :\n",
    "    liste_paths.append(path + dirs[1] + fn)\n",
    "for fn in pneumonia_imgs :\n",
    "    liste_paths.append(path + dirs[2] + fn)\n",
    "for fn in lung_opacity_imgs :\n",
    "    liste_paths.append(path + dirs[3] + fn)\n",
    "\n",
    "# Découpage des noms de chaque emplacement et récupération de la classe (liste de listes)\n",
    "liste_paths_classes = list(map(lambda x : [x, x.split('/')[ID_DIR]], liste_paths)) \n",
    "\"\"\"La constante ID_DIR est à changer en fonction de la longueur du path, le but est de recupérer les termes \"normal\", \"covid\",... \"\"\"\n",
    "\n",
    "\n",
    "# Création Dataframe des emplacements et classes images BRUTES\n",
    "df = pd.DataFrame(liste_paths_classes, columns = ['filepath', 'nameLabel'])\n",
    "\n",
    "# Remplacement des classes sous forme littérale par index\n",
    "df['label'] = df['nameLabel'].replace(df.nameLabel.unique(), [*range(len(df.nameLabel.unique()))])\n",
    "df = df.drop(['nameLabel'], axis=1)\n",
    "df['label'] = df['label'].astype(str)\n",
    "\n",
    "# Mélange du dataframe\n",
    "df = df.sample(frac=1, random_state=42)\n",
    "df = df.reset_index(drop=True)\n",
    "\n",
    "# Nettoyage variables inutiles\n",
    "del liste_paths\n",
    "\n",
    "df = df[0:ECH_SIZE]\n",
    "df.head()"
   ]
  },
  {
   "attachments": {},
   "cell_type": "markdown",
   "metadata": {},
   "source": [
    "## Itérateur d'images"
   ]
  },
  {
   "cell_type": "code",
   "execution_count": 5,
   "metadata": {},
   "outputs": [
    {
     "name": "stdout",
     "output_type": "stream",
     "text": [
      "Number of rows in train set: 1600\n",
      "Found 1600 validated image filenames belonging to 4 classes.\n",
      "Number of rows in test set: 400\n",
      "Found 400 validated image filenames belonging to 4 classes.\n"
     ]
    }
   ],
   "source": [
    "# Séparation dataframe en ensemble entraiement et validation\n",
    "train, test = train_test_split(df, test_size=RATIO_VAL, shuffle = False)\n",
    "\n",
    "\n",
    "\n",
    "# Création des itérateurs qui chargeront des lots d'images\n",
    "train_data_generator = ImageDataGenerator( )\n",
    "test_data_generator = ImageDataGenerator( )\n",
    "\n",
    "# Initialisation du image generator de train\n",
    "print(f\"Number of rows in train set: {len(train)}\")\n",
    "train_generator = train_data_generator.flow_from_dataframe(dataframe = train,\n",
    "                                                           x_col=\"filepath\",\n",
    "                                                           y_col=\"label\",\n",
    "                                                           class_mode = \"sparse\",\n",
    "                                                           target_size = SIZE, #Resize\n",
    "                                                           batch_size = BATCH_SIZE,) # En RGB !\n",
    "\n",
    "# Initialisation du image generator de test\n",
    "print(f\"Number of rows in test set: {len(test)}\")\n",
    "test_generator = test_data_generator.flow_from_dataframe(dataframe = test,\n",
    "                                                         x_col=\"filepath\",\n",
    "                                                         y_col=\"label\",\n",
    "                                                         class_mode = \"sparse\",\n",
    "                                                         target_size = SIZE, #Resize\n",
    "                                                         batch_size = BATCH_SIZE) # En RGB !"
   ]
  },
  {
   "attachments": {},
   "cell_type": "markdown",
   "metadata": {},
   "source": [
    "# Modèle"
   ]
  },
  {
   "cell_type": "code",
   "execution_count": 6,
   "metadata": {},
   "outputs": [],
   "source": [
    "#Chargement et freeze modèle de base\n",
    "base_model = VGG16(weights=None, include_top = False)\n",
    "for layer in base_model.layers :\n",
    "    layer.trainable = False\n",
    "\n",
    "# Instanciation modèle séquentiel\n",
    "vgg = Sequential()\n",
    "\n",
    "# Ajout des différentes couches\n",
    "vgg.add(base_model)\n",
    "vgg.add(GlobalAveragePooling2D())\n",
    "vgg.add(Dense(units = 1024, activation = \"relu\"))\n",
    "vgg.add(Dropout(rate=0.2))\n",
    "vgg.add(Dense(units = 512, activation = \"relu\"))\n",
    "vgg.add(Dropout(rate=0.2))\n",
    "vgg.add(Dense(units = 4, activation = \"softmax\"))\n",
    "\n",
    "# Compilation\n",
    "vgg.compile(loss = \"sparse_categorical_crossentropy\", optimizer = \"Adam\", metrics = [\"accuracy\"])"
   ]
  },
  {
   "cell_type": "code",
   "execution_count": 7,
   "metadata": {},
   "outputs": [
    {
     "name": "stdout",
     "output_type": "stream",
     "text": [
      "Epoch 1/10\n",
      "38/38 [==============================] - 624s 16s/step - loss: 1.4156 - accuracy: 0.2445 - val_loss: 1.3940 - val_accuracy: 0.2328\n",
      "Epoch 2/10\n",
      "38/38 [==============================] - 688s 18s/step - loss: 1.3881 - accuracy: 0.2555 - val_loss: 1.3712 - val_accuracy: 0.2646\n",
      "Epoch 3/10\n",
      "38/38 [==============================] - 694s 18s/step - loss: 1.3743 - accuracy: 0.2843 - val_loss: 1.3612 - val_accuracy: 0.2831\n",
      "Epoch 4/10\n",
      "38/38 [==============================] - 694s 18s/step - loss: 1.3642 - accuracy: 0.3184 - val_loss: 1.3640 - val_accuracy: 0.2487\n",
      "Epoch 5/10\n",
      "38/38 [==============================] - 697s 18s/step - loss: 1.3263 - accuracy: 0.3582 - val_loss: 1.3099 - val_accuracy: 0.3148\n",
      "Epoch 6/10\n",
      "38/38 [==============================] - 710s 19s/step - loss: 1.3028 - accuracy: 0.3851 - val_loss: 1.2061 - val_accuracy: 0.5265\n",
      "Epoch 7/10\n",
      "38/38 [==============================] - 694s 18s/step - loss: 1.2164 - accuracy: 0.4673 - val_loss: 1.1155 - val_accuracy: 0.4921\n",
      "Epoch 8/10\n",
      "38/38 [==============================] - 698s 18s/step - loss: 1.1336 - accuracy: 0.4917 - val_loss: 1.0363 - val_accuracy: 0.5820\n",
      "Epoch 9/10\n",
      "38/38 [==============================] - 691s 18s/step - loss: 1.0814 - accuracy: 0.5372 - val_loss: 1.0680 - val_accuracy: 0.5238\n",
      "Epoch 10/10\n",
      "38/38 [==============================] - 689s 18s/step - loss: 1.0618 - accuracy: 0.5263 - val_loss: 0.9672 - val_accuracy: 0.6508\n"
     ]
    }
   ],
   "source": [
    "# Entrainement du modèle\n",
    "train_size = train_generator.samples\n",
    "test_size = test_generator.samples\n",
    "\n",
    "history = vgg.fit(train_generator,\n",
    "                              epochs = NB_EPOCHS,\n",
    "                              steps_per_epoch = train_size // BATCH_SIZE,\n",
    "                              validation_data = test_generator,\n",
    "                              validation_steps = test_size // BATCH_SIZE)"
   ]
  },
  {
   "cell_type": "code",
   "execution_count": 14,
   "metadata": {},
   "outputs": [],
   "source": [
    "vgg.save_weights(\"model_vgg_2000mkd.h5\")"
   ]
  },
  {
   "attachments": {},
   "cell_type": "markdown",
   "metadata": {},
   "source": [
    "# Evaluation"
   ]
  },
  {
   "cell_type": "code",
   "execution_count": 8,
   "metadata": {},
   "outputs": [
    {
     "data": {
      "image/png": "[encoded data removed]",
      "text/plain": [
       "<Figure size 1600x500 with 2 Axes>"
      ]
     },
     "metadata": {},
     "output_type": "display_data"
    }
   ],
   "source": [
    "# Courbes d'accuracy et de perte\n",
    "plt.figure(figsize = (16,5))\n",
    "\n",
    "plt.subplot(121)\n",
    "plt.plot(history.history[\"accuracy\"], label = \"Train\")\n",
    "plt.plot(history.history[\"val_accuracy\"], label = \"Test\")\n",
    "plt.legend()\n",
    "plt.xlabel(\"epoch\")\n",
    "plt.ylabel(\"accuracy\")\n",
    "plt.title(\"Accuracy\")\n",
    "\n",
    "plt.subplot(122)\n",
    "plt.plot(history.history[\"loss\"], label = \"Train\")\n",
    "plt.plot(history.history[\"val_loss\"], label = \"Test\")\n",
    "plt.legend()\n",
    "plt.xlabel(\"epoch\")\n",
    "plt.ylabel(\"loss\")\n",
    "plt.ylim(0,2)\n",
    "plt.title(\"Loss\")\n",
    "plt.show();"
   ]
  },
  {
   "cell_type": "code",
   "execution_count": null,
   "metadata": {},
   "outputs": [],
   "source": []
  },
  {
   "cell_type": "code",
   "execution_count": 9,
   "metadata": {},
   "outputs": [
    {
     "name": "stdout",
     "output_type": "stream",
     "text": [
      "10/10 [==============================] - 110s 11s/step\n"
     ]
    }
   ],
   "source": [
    "# Calcul des prédictions (probabilités)\n",
    "test_generator.reset()\n",
    "test_pred = vgg.predict(test_generator, verbose = 1 )"
   ]
  },
  {
   "cell_type": "code",
   "execution_count": 12,
   "metadata": {},
   "outputs": [
    {
     "name": "stdout",
     "output_type": "stream",
     "text": [
      "[[22 28 24 16]\n",
      " [21 15 35 21]\n",
      " [17 16 38 36]\n",
      " [23 27 39 22]]\n"
     ]
    }
   ],
   "source": [
    "# Récupération des classes à partir des probabilités\n",
    "test_pred_class = test_pred.argmax(axis = 1)\n",
    "\n",
    "# Matrice de confusion\n",
    "print(confusion_matrix(test_generator.classes, test_pred_class)) ##Pb ICI ?"
   ]
  },
  {
   "cell_type": "code",
   "execution_count": 13,
   "metadata": {},
   "outputs": [
    {
     "name": "stdout",
     "output_type": "stream",
     "text": [
      "              precision    recall  f1-score   support\n",
      "\n",
      "           0       0.27      0.24      0.25        90\n",
      "           1       0.17      0.16      0.17        92\n",
      "           2       0.28      0.36      0.31       107\n",
      "           3       0.23      0.20      0.21       111\n",
      "\n",
      "    accuracy                           0.24       400\n",
      "   macro avg       0.24      0.24      0.24       400\n",
      "weighted avg       0.24      0.24      0.24       400\n",
      "\n"
     ]
    }
   ],
   "source": [
    "print(classification_report(test_generator.classes, test_pred_class)) ##Pb ICI ?"
   ]
  }
 ],
 "metadata": {
  "kernelspec": {
   "display_name": "base",
   "language": "python",
   "name": "python3"
  },
  "language_info": {
   "codemirror_mode": {
    "name": "ipython",
    "version": 3
   },
   "file_extension": ".py",
   "mimetype": "text/x-python",
   "name": "python",
   "nbconvert_exporter": "python",
   "pygments_lexer": "ipython3",
   "version": "3.9.13"
  },
  "orig_nbformat": 4
 },
 "nbformat": 4,
 "nbformat_minor": 2
}
