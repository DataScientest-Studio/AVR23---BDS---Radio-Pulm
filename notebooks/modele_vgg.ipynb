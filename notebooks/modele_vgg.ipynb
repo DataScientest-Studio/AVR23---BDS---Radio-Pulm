{
 "cells": [
  {
   "attachments": {},
   "cell_type": "markdown",
   "metadata": {},
   "source": [
    "# Imports"
   ]
  },
  {
   "cell_type": "code",
   "execution_count": 9,
   "metadata": {},
   "outputs": [],
   "source": [
    "# Libraries\n",
    "\n",
    "# Data Analysis\n",
    "import plotly.express as px\n",
    "import matplotlib.pyplot as plt\n",
    "import seaborn as sns\n",
    "\n",
    "#TensorFlow\n",
    "import tensorflow as tf\n",
    "from tensorflow.keras.preprocessing.image import array_to_img\n",
    "\n",
    "# Classes Tensorflow\n",
    "from tensorflow.keras.preprocessing.image import ImageDataGenerator\n",
    "from tensorflow.keras.models import Sequential\n",
    "from tensorflow.keras.layers import Dense, Conv2D, Dropout, Flatten, MaxPooling2D, GlobalAveragePooling2D\n",
    "from tensorflow.keras.applications.vgg16 import VGG16\n",
    "\n",
    "# Sklearn\n",
    "from sklearn.metrics import confusion_matrix, classification_report\n",
    "from sklearn.model_selection import train_test_split\n",
    "\n",
    "# others\n",
    "import pandas as pd\n",
    "import time\n",
    "import numpy as np\n",
    "import random\n",
    "import os\n",
    "\n",
    "from PIL import Image\n",
    "import cv2\n",
    "from IPython.display import display\n",
    "from tqdm import tqdm_notebook\n",
    "import copy # To copy later our best model"
   ]
  },
  {
   "attachments": {},
   "cell_type": "markdown",
   "metadata": {},
   "source": [
    "# Chargement des données"
   ]
  },
  {
   "attachments": {},
   "cell_type": "markdown",
   "metadata": {},
   "source": [
    "## Config"
   ]
  },
  {
   "cell_type": "code",
   "execution_count": 2,
   "metadata": {},
   "outputs": [],
   "source": [
    "# Emplacement\n",
    "path = \"C:/Users/Nina/Documents/GitHub/AVR23---BDS---Radio-Pulm/data\"     ### A MODIFIER EN LOCAL !!\n",
    "dirs = [\"Normal/images/\",\"COVID/images/\",\"Lung_Opacity/images/\",\"Viral Pneumonia/images/\"]\n",
    "dirsm = [\"Normal/masks/\",\"COVID/masks/\",\"Lung_Opacity/masks/\",\"Viral Pneumonia/masks/\"]\n",
    "ID_DIR = 7\n",
    "\n",
    "# Classes de 0 à 3 dans la suite\n",
    "classes = (\"Normal\",\"COVID \",\"Lung_Opacity\",\"Viral Pneumonia\") \n",
    "nbClasses = len(classes)\n",
    "\n",
    "# Paramètres\n",
    "SIZE = (224,224)\n",
    "RATIO_VAL = 0.2 \n",
    "BATCH_SIZE = 42\n",
    "NB_EPOCHS = 2\n",
    "ECH_SIZE = 2000"
   ]
  },
  {
   "attachments": {},
   "cell_type": "markdown",
   "metadata": {},
   "source": [
    "## Dataframe"
   ]
  },
  {
   "cell_type": "code",
   "execution_count": 3,
   "metadata": {},
   "outputs": [
    {
     "data": {
      "text/html": [
       "<div>\n",
       "<style scoped>\n",
       "    .dataframe tbody tr th:only-of-type {\n",
       "        vertical-align: middle;\n",
       "    }\n",
       "\n",
       "    .dataframe tbody tr th {\n",
       "        vertical-align: top;\n",
       "    }\n",
       "\n",
       "    .dataframe thead th {\n",
       "        text-align: right;\n",
       "    }\n",
       "</style>\n",
       "<table border=\"1\" class=\"dataframe\">\n",
       "  <thead>\n",
       "    <tr style=\"text-align: right;\">\n",
       "      <th></th>\n",
       "      <th>filepath</th>\n",
       "      <th>label</th>\n",
       "    </tr>\n",
       "  </thead>\n",
       "  <tbody>\n",
       "    <tr>\n",
       "      <th>0</th>\n",
       "      <td>C:/Users/Nina/Documents/GitHub/AVR23---BDS---R...</td>\n",
       "      <td>3</td>\n",
       "    </tr>\n",
       "    <tr>\n",
       "      <th>1</th>\n",
       "      <td>C:/Users/Nina/Documents/GitHub/AVR23---BDS---R...</td>\n",
       "      <td>1</td>\n",
       "    </tr>\n",
       "    <tr>\n",
       "      <th>2</th>\n",
       "      <td>C:/Users/Nina/Documents/GitHub/AVR23---BDS---R...</td>\n",
       "      <td>0</td>\n",
       "    </tr>\n",
       "    <tr>\n",
       "      <th>3</th>\n",
       "      <td>C:/Users/Nina/Documents/GitHub/AVR23---BDS---R...</td>\n",
       "      <td>2</td>\n",
       "    </tr>\n",
       "    <tr>\n",
       "      <th>4</th>\n",
       "      <td>C:/Users/Nina/Documents/GitHub/AVR23---BDS---R...</td>\n",
       "      <td>1</td>\n",
       "    </tr>\n",
       "  </tbody>\n",
       "</table>\n",
       "</div>"
      ],
      "text/plain": [
       "                                            filepath label\n",
       "0  C:/Users/Nina/Documents/GitHub/AVR23---BDS---R...     3\n",
       "1  C:/Users/Nina/Documents/GitHub/AVR23---BDS---R...     1\n",
       "2  C:/Users/Nina/Documents/GitHub/AVR23---BDS---R...     0\n",
       "3  C:/Users/Nina/Documents/GitHub/AVR23---BDS---R...     2\n",
       "4  C:/Users/Nina/Documents/GitHub/AVR23---BDS---R...     1"
      ]
     },
     "execution_count": 3,
     "metadata": {},
     "output_type": "execute_result"
    }
   ],
   "source": [
    "# Création des 4 listes de noms d'images\n",
    "normal_imgs = [fn for fn in os.listdir(f'{path}/Normal/images') if fn.endswith('.png')]\n",
    "covid_imgs = [fn for fn in os.listdir(f'{path}/COVID/images') if fn.endswith('.png')]\n",
    "pneumonia_imgs = [fn for fn in os.listdir(f'{path}/Viral Pneumonia/images') if fn.endswith('.png')]\n",
    "lung_opacity_imgs = [fn for fn in os.listdir(f'{path}/Lung_Opacity/images') if fn.endswith('.png')]\n",
    "\n",
    "# Concaténation des emplacements de toutes les images dans une liste unique\n",
    "liste_paths = []\n",
    "for fn in normal_imgs :\n",
    "    liste_paths.append(f'{path}/Normal/images/' + fn)\n",
    "for fn in covid_imgs :\n",
    "    liste_paths.append(f'{path}/COVID/images/' + fn)\n",
    "for fn in pneumonia_imgs :\n",
    "    liste_paths.append(f'{path}/Viral Pneumonia/images/' + fn)\n",
    "for fn in lung_opacity_imgs :\n",
    "    liste_paths.append(f'{path}/Lung_Opacity/images/' + fn)\n",
    "\n",
    "# Découpage des noms de chaque emplacement et récupération de la classe (liste de listes)\n",
    "liste_paths_classes = list(map(lambda x : [x, x.split('/')[ID_DIR]], liste_paths)) \n",
    "\"\"\"Le chiffre '6' est à changer en fonction de la longueur du path, le but est de recupérer les termes \"nomrals\", \"covid\",... \"\"\"\n",
    "\n",
    "\n",
    "# Création Dataframe des emplacements et classes images BRUTES\n",
    "df = pd.DataFrame(liste_paths_classes, columns = ['filepath', 'nameLabel'])\n",
    "\n",
    "# Remplacement des classes sous forme littérale par index\n",
    "df['label'] = df['nameLabel'].replace(df.nameLabel.unique(), [*range(len(df.nameLabel.unique()))])\n",
    "df = df.drop(['nameLabel'], axis=1)\n",
    "df['label'] = df['label'].astype(str)\n",
    "\n",
    "# Mélange du dataframe\n",
    "df = df.sample(frac=1, random_state=42)\n",
    "df = df.reset_index(drop=True)\n",
    "\n",
    "# Nettoyage variables inutiles\n",
    "del liste_paths\n",
    "\n",
    "df = df[0:ECH_SIZE]\n",
    "df.head()"
   ]
  },
  {
   "attachments": {},
   "cell_type": "markdown",
   "metadata": {},
   "source": [
    "## Itérateur d'images"
   ]
  },
  {
   "cell_type": "code",
   "execution_count": 4,
   "metadata": {},
   "outputs": [
    {
     "name": "stdout",
     "output_type": "stream",
     "text": [
      "Number of rows in train set: 1600\n",
      "Found 1600 validated image filenames belonging to 4 classes.\n",
      "Number of rows in test set: 400\n",
      "Found 400 validated image filenames belonging to 4 classes.\n"
     ]
    }
   ],
   "source": [
    "# Séparation dataframe en ensemble entraiement et validation\n",
    "train, test = train_test_split(df, test_size=RATIO_VAL, shuffle = False)\n",
    "\n",
    "\n",
    "\n",
    "# Création des itérateurs qui chargeront des lots d'images\n",
    "train_data_generator = ImageDataGenerator( )\n",
    "test_data_generator = ImageDataGenerator( )\n",
    "\n",
    "# Initialisation du image generator de train\n",
    "print(f\"Number of rows in train set: {len(train)}\")\n",
    "train_generator = train_data_generator.flow_from_dataframe(dataframe = train,\n",
    "                                                           x_col=\"filepath\",\n",
    "                                                           y_col=\"label\",\n",
    "                                                           class_mode = \"sparse\",\n",
    "                                                           target_size = SIZE, #Resize\n",
    "                                                           batch_size = BATCH_SIZE,) # En RGB !\n",
    "\n",
    "# Initialisation du image generator de test\n",
    "print(f\"Number of rows in test set: {len(test)}\")\n",
    "test_generator = test_data_generator.flow_from_dataframe(dataframe = test,\n",
    "                                                         x_col=\"filepath\",\n",
    "                                                         y_col=\"label\",\n",
    "                                                         class_mode = \"sparse\",\n",
    "                                                         target_size = SIZE, #Resize\n",
    "                                                         batch_size = BATCH_SIZE) # En RGB !"
   ]
  },
  {
   "attachments": {},
   "cell_type": "markdown",
   "metadata": {},
   "source": [
    "# Modèle"
   ]
  },
  {
   "cell_type": "code",
   "execution_count": 10,
   "metadata": {},
   "outputs": [],
   "source": [
    "#Chargement et freeze modèle de base\n",
    "base_model = VGG16(weights=None, include_top = False)\n",
    "for layer in base_model.layers :\n",
    "    layer.trainable = False\n",
    "\n",
    "# Instanciation modèle séquentiel\n",
    "vgg = Sequential()\n",
    "\n",
    "# Ajout des différentes couches\n",
    "vgg.add(base_model)\n",
    "vgg.add(GlobalAveragePooling2D())\n",
    "vgg.add(Dense(units = 1024, activation = \"relu\"))\n",
    "vgg.add(Dropout(rate=0.2))\n",
    "vgg.add(Dense(units = 512, activation = \"relu\"))\n",
    "vgg.add(Dropout(rate=0.2))\n",
    "vgg.add(Dense(units = 4, activation = \"softmax\"))\n",
    "\n",
    "# Compilation\n",
    "vgg.compile(loss = \"sparse_categorical_crossentropy\", optimizer = \"Adam\", metrics = [\"accuracy\"])"
   ]
  },
  {
   "cell_type": "code",
   "execution_count": 11,
   "metadata": {},
   "outputs": [
    {
     "name": "stdout",
     "output_type": "stream",
     "text": [
      "Epoch 1/2\n",
      "38/38 [==============================] - 796s 21s/step - loss: 1.2364 - accuracy: 0.4666 - val_loss: 1.1897 - val_accuracy: 0.5079\n",
      "Epoch 2/2\n",
      "38/38 [==============================] - 789s 21s/step - loss: 1.1826 - accuracy: 0.4897 - val_loss: 1.1714 - val_accuracy: 0.5106\n"
     ]
    }
   ],
   "source": [
    "# Entrainement du modèle\n",
    "train_size = train_generator.samples\n",
    "test_size = test_generator.samples\n",
    "\n",
    "history = vgg.fit(train_generator,\n",
    "                              epochs = NB_EPOCHS,\n",
    "                              steps_per_epoch = train_size // BATCH_SIZE,\n",
    "                              validation_data = test_generator,\n",
    "                              validation_steps = test_size // BATCH_SIZE)"
   ]
  },
  {
   "attachments": {},
   "cell_type": "markdown",
   "metadata": {},
   "source": [
    "# Evaluation"
   ]
  },
  {
   "cell_type": "code",
   "execution_count": 12,
   "metadata": {},
   "outputs": [
    {
     "data": {
      "image/png": "[encoded data removed]",
      "text/plain": [
       "<Figure size 1600x500 with 2 Axes>"
      ]
     },
     "metadata": {},
     "output_type": "display_data"
    }
   ],
   "source": [
    "# Courbes d'accuracy et de perte\n",
    "plt.figure(figsize = (16,5))\n",
    "\n",
    "plt.subplot(121)\n",
    "plt.plot(history.history[\"accuracy\"], label = \"Train\")\n",
    "plt.plot(history.history[\"val_accuracy\"], label = \"Test\")\n",
    "plt.legend()\n",
    "plt.xlabel(\"epoch\")\n",
    "plt.ylabel(\"accuracy\")\n",
    "plt.title(\"Accuracy\")\n",
    "\n",
    "plt.subplot(122)\n",
    "plt.plot(history.history[\"loss\"], label = \"Train\")\n",
    "plt.plot(history.history[\"val_loss\"], label = \"Test\")\n",
    "plt.legend()\n",
    "plt.xlabel(\"epoch\")\n",
    "plt.ylabel(\"loss\")\n",
    "plt.ylim(0,2)\n",
    "plt.title(\"Loss\")\n",
    "plt.show();"
   ]
  },
  {
   "cell_type": "code",
   "execution_count": 17,
   "metadata": {},
   "outputs": [
    {
     "name": "stdout",
     "output_type": "stream",
     "text": [
      "10/10 [==============================] - 148s 14s/step\n"
     ]
    }
   ],
   "source": [
    "# Calcul des prédictions (probabilités)\n",
    "test_generator.reset()\n",
    "test_pred = vgg.predict(test_generator, verbose = 1 )"
   ]
  },
  {
   "cell_type": "code",
   "execution_count": 18,
   "metadata": {},
   "outputs": [
    {
     "name": "stdout",
     "output_type": "stream",
     "text": [
      "[[205   0   0   0]\n",
      " [ 66   0   0   0]\n",
      " [ 28   0   0   0]\n",
      " [101   0   0   0]]\n"
     ]
    }
   ],
   "source": [
    "# Récupération des classes à partir des probabilités\n",
    "test_pred_class = test_pred.argmax(axis = 1)\n",
    "\n",
    "# Matrice de confusion\n",
    "print(confusion_matrix(test[\"label\"].astype(\"int\"), test_pred_class)) ##Pb ICI ?"
   ]
  },
  {
   "cell_type": "code",
   "execution_count": 19,
   "metadata": {},
   "outputs": [
    {
     "name": "stdout",
     "output_type": "stream",
     "text": [
      "              precision    recall  f1-score   support\n",
      "\n",
      "           0       0.51      1.00      0.68       205\n",
      "           1       0.00      0.00      0.00        66\n",
      "           2       0.00      0.00      0.00        28\n",
      "           3       0.00      0.00      0.00       101\n",
      "\n",
      "    accuracy                           0.51       400\n",
      "   macro avg       0.13      0.25      0.17       400\n",
      "weighted avg       0.26      0.51      0.35       400\n",
      "\n"
     ]
    },
    {
     "name": "stderr",
     "output_type": "stream",
     "text": [
      "c:\\Users\\Nina\\anaconda3\\lib\\site-packages\\sklearn\\metrics\\_classification.py:1318: UndefinedMetricWarning: Precision and F-score are ill-defined and being set to 0.0 in labels with no predicted samples. Use `zero_division` parameter to control this behavior.\n",
      "  _warn_prf(average, modifier, msg_start, len(result))\n",
      "c:\\Users\\Nina\\anaconda3\\lib\\site-packages\\sklearn\\metrics\\_classification.py:1318: UndefinedMetricWarning: Precision and F-score are ill-defined and being set to 0.0 in labels with no predicted samples. Use `zero_division` parameter to control this behavior.\n",
      "  _warn_prf(average, modifier, msg_start, len(result))\n",
      "c:\\Users\\Nina\\anaconda3\\lib\\site-packages\\sklearn\\metrics\\_classification.py:1318: UndefinedMetricWarning: Precision and F-score are ill-defined and being set to 0.0 in labels with no predicted samples. Use `zero_division` parameter to control this behavior.\n",
      "  _warn_prf(average, modifier, msg_start, len(result))\n"
     ]
    }
   ],
   "source": [
    "print(classification_report(test[\"label\"].astype(\"int\"), test_pred_class)) ##Pb ICI ?"
   ]
  }
 ],
 "metadata": {
  "kernelspec": {
   "display_name": "base",
   "language": "python",
   "name": "python3"
  },
  "language_info": {
   "name": "python",
   "version": "3.9.13"
  },
  "orig_nbformat": 4
 },
 "nbformat": 4,
 "nbformat_minor": 2
}
