{
 "cells": [
  {
   "attachments": {},
   "cell_type": "markdown",
   "metadata": {},
   "source": [
    "# Imports"
   ]
  },
  {
   "cell_type": "code",
   "execution_count": 3,
   "metadata": {},
   "outputs": [],
   "source": [
    "# Libraries\n",
    "\n",
    "# Data Analysis\n",
    "import plotly.express as px\n",
    "import matplotlib.pyplot as plt\n",
    "import seaborn as sns\n",
    "\n",
    "#TensorFlow\n",
    "import tensorflow as tf\n",
    "from tensorflow.keras.preprocessing.image import array_to_img\n",
    "\n",
    "# Classes Tensorflow\n",
    "from tensorflow.keras.preprocessing.image import ImageDataGenerator\n",
    "from tensorflow.keras.models import Sequential\n",
    "from tensorflow.keras.layers import Dense, Conv2D, Dropout, Flatten, MaxPooling2D\n",
    "\n",
    "# Sklearn\n",
    "from sklearn.metrics import confusion_matrix, classification_report\n",
    "from sklearn.model_selection import train_test_split\n",
    "\n",
    "# others\n",
    "import pandas as pd\n",
    "import time\n",
    "import numpy as np\n",
    "import random\n",
    "import os\n",
    "\n",
    "from PIL import Image\n",
    "import cv2\n",
    "from IPython.display import display\n",
    "from tqdm import tqdm_notebook\n",
    "import copy # To copy later our best model"
   ]
  },
  {
   "attachments": {},
   "cell_type": "markdown",
   "metadata": {},
   "source": [
    "# Chargement données"
   ]
  },
  {
   "attachments": {},
   "cell_type": "markdown",
   "metadata": {},
   "source": [
    "## Config"
   ]
  },
  {
   "cell_type": "code",
   "execution_count": 8,
   "metadata": {},
   "outputs": [],
   "source": [
    "# Emplacement\n",
    "path = \"C:/Users/Nina/Documents/GitHub/AVR23---BDS---Radio-Pulm/data\"     ### A MODIFIER EN LOCAL !!\n",
    "dirs = [\"Normal/images/\",\"COVID/images/\",\"Lung_Opacity/images/\",\"Viral Pneumonia/images/\"]\n",
    "dirsm = [\"Normal/masks/\",\"COVID/masks/\",\"Lung_Opacity/masks/\",\"Viral Pneumonia/masks/\"]\n",
    "dirsim = [\"Normal/masked_images/\",\"COVID/masked_images/\",\"Lung_Opacity/masked_images/\",\"Viral Pneumonia/masked_images/\"]\n",
    "ID_DIR = 7\n",
    "\n",
    "# Classes de 0 à 3 dans la suite\n",
    "classes = (\"Normal\",\"COVID \",\"Lung_Opacity\",\"Viral Pneumonia\") \n",
    "nbClasses = len(classes)\n",
    "\n",
    "# Paramètres\n",
    "SIZE = (256,256)\n",
    "RATIO_VAL = 0.2 \n",
    "BATCH_SIZE = 42\n",
    "NB_EPOCHS = 15\n",
    "ECH_SIZE = 2000"
   ]
  },
  {
   "attachments": {},
   "cell_type": "markdown",
   "metadata": {},
   "source": [
    "## Dataframe"
   ]
  },
  {
   "cell_type": "code",
   "execution_count": 9,
   "metadata": {},
   "outputs": [
    {
     "data": {
      "text/html": [
       "<div>\n",
       "<style scoped>\n",
       "    .dataframe tbody tr th:only-of-type {\n",
       "        vertical-align: middle;\n",
       "    }\n",
       "\n",
       "    .dataframe tbody tr th {\n",
       "        vertical-align: top;\n",
       "    }\n",
       "\n",
       "    .dataframe thead th {\n",
       "        text-align: right;\n",
       "    }\n",
       "</style>\n",
       "<table border=\"1\" class=\"dataframe\">\n",
       "  <thead>\n",
       "    <tr style=\"text-align: right;\">\n",
       "      <th></th>\n",
       "      <th>filepath</th>\n",
       "      <th>label</th>\n",
       "    </tr>\n",
       "  </thead>\n",
       "  <tbody>\n",
       "    <tr>\n",
       "      <th>0</th>\n",
       "      <td>C:/Users/Nina/Documents/GitHub/AVR23---BDS---R...</td>\n",
       "      <td>3</td>\n",
       "    </tr>\n",
       "    <tr>\n",
       "      <th>1</th>\n",
       "      <td>C:/Users/Nina/Documents/GitHub/AVR23---BDS---R...</td>\n",
       "      <td>1</td>\n",
       "    </tr>\n",
       "    <tr>\n",
       "      <th>2</th>\n",
       "      <td>C:/Users/Nina/Documents/GitHub/AVR23---BDS---R...</td>\n",
       "      <td>0</td>\n",
       "    </tr>\n",
       "    <tr>\n",
       "      <th>3</th>\n",
       "      <td>C:/Users/Nina/Documents/GitHub/AVR23---BDS---R...</td>\n",
       "      <td>2</td>\n",
       "    </tr>\n",
       "    <tr>\n",
       "      <th>4</th>\n",
       "      <td>C:/Users/Nina/Documents/GitHub/AVR23---BDS---R...</td>\n",
       "      <td>1</td>\n",
       "    </tr>\n",
       "  </tbody>\n",
       "</table>\n",
       "</div>"
      ],
      "text/plain": [
       "                                            filepath label\n",
       "0  C:/Users/Nina/Documents/GitHub/AVR23---BDS---R...     3\n",
       "1  C:/Users/Nina/Documents/GitHub/AVR23---BDS---R...     1\n",
       "2  C:/Users/Nina/Documents/GitHub/AVR23---BDS---R...     0\n",
       "3  C:/Users/Nina/Documents/GitHub/AVR23---BDS---R...     2\n",
       "4  C:/Users/Nina/Documents/GitHub/AVR23---BDS---R...     1"
      ]
     },
     "execution_count": 9,
     "metadata": {},
     "output_type": "execute_result"
    }
   ],
   "source": [
    "\n",
    "# Création des 4 listes de noms d'images\n",
    "normal_imgs = [fn for fn in os.listdir(f'{path}/Normal/images') if fn.endswith('.png')]\n",
    "covid_imgs = [fn for fn in os.listdir(f'{path}/COVID/images') if fn.endswith('.png')]\n",
    "pneumonia_imgs = [fn for fn in os.listdir(f'{path}/Viral Pneumonia/images') if fn.endswith('.png')]\n",
    "lung_opacity_imgs = [fn for fn in os.listdir(f'{path}/Lung_Opacity/images') if fn.endswith('.png')]\n",
    "\n",
    "# Concaténation des emplacements de toutes les images dans une liste unique\n",
    "liste_paths = []\n",
    "for fn in normal_imgs :\n",
    "    liste_paths.append(f'{path}/Normal/images/' + fn)\n",
    "for fn in covid_imgs :\n",
    "    liste_paths.append(f'{path}/COVID/images/' + fn)\n",
    "for fn in pneumonia_imgs :\n",
    "    liste_paths.append(f'{path}/Viral Pneumonia/images/' + fn)\n",
    "for fn in lung_opacity_imgs :\n",
    "    liste_paths.append(f'{path}/Lung_Opacity/images/' + fn)\n",
    "\n",
    "# Découpage des noms de chaque emplacement et récupération de la classe (liste de listes)\n",
    "liste_paths_classes = list(map(lambda x : [x, x.split('/')[ID_DIR]], liste_paths)) \n",
    "\"\"\"La constante ID_DIR est à changer en fonction de la longueur du path, le but est de recupérer les termes \"normal\", \"covid\",... \"\"\"\n",
    "\n",
    "\n",
    "# Création Dataframe des emplacements et classes images BRUTES\n",
    "df = pd.DataFrame(liste_paths_classes, columns = ['filepath', 'nameLabel'])\n",
    "\n",
    "# Remplacement des classes sous forme littérale par index\n",
    "df['label'] = df['nameLabel'].replace(df.nameLabel.unique(), [*range(len(df.nameLabel.unique()))])\n",
    "df = df.drop(['nameLabel'], axis=1)\n",
    "df['label'] = df['label'].astype(str)\n",
    "\n",
    "# Mélange du dataframe\n",
    "df = df.sample(frac=1, random_state=42)\n",
    "df = df.reset_index(drop=True)\n",
    "\n",
    "# Nettoyage variables inutiles\n",
    "del liste_paths\n",
    "\n",
    "df = df[0:ECH_SIZE]\n",
    "df.head()"
   ]
  },
  {
   "attachments": {},
   "cell_type": "markdown",
   "metadata": {},
   "source": [
    "## Itérateurs d'images"
   ]
  },
  {
   "cell_type": "code",
   "execution_count": 10,
   "metadata": {},
   "outputs": [
    {
     "name": "stdout",
     "output_type": "stream",
     "text": [
      "Number of rows in train set: 1600\n",
      "Found 1600 validated image filenames belonging to 4 classes.\n",
      "Number of rows in test set: 400\n",
      "Found 400 validated image filenames belonging to 4 classes.\n"
     ]
    }
   ],
   "source": [
    "# Séparation dataframe en ensemble entraiement et validation\n",
    "train, test = train_test_split(df, test_size=RATIO_VAL, shuffle = False)\n",
    "\n",
    "\n",
    "\n",
    "# Création des itérateurs qui chargeront des lots d'images\n",
    "train_data_generator = ImageDataGenerator( )\n",
    "test_data_generator = ImageDataGenerator( )\n",
    "\n",
    "# Initialisation du image generator de train\n",
    "print(f\"Number of rows in train set: {len(train)}\")\n",
    "train_generator = train_data_generator.flow_from_dataframe(dataframe = train,\n",
    "                                                           x_col=\"filepath\",\n",
    "                                                           y_col=\"label\",\n",
    "                                                           class_mode = \"sparse\",\n",
    "                                                           target_size = SIZE, #Resize\n",
    "                                                           batch_size = BATCH_SIZE,\n",
    "                                                           color_mode = \"grayscale\") #Niveau de gris\n",
    "\n",
    "# Initialisation du image generator de test\n",
    "print(f\"Number of rows in test set: {len(test)}\")\n",
    "test_generator = test_data_generator.flow_from_dataframe(dataframe = test,\n",
    "                                                         x_col=\"filepath\",\n",
    "                                                         y_col=\"label\",\n",
    "                                                         class_mode = \"sparse\",\n",
    "                                                         target_size = SIZE, #Resize\n",
    "                                                         batch_size = BATCH_SIZE,\n",
    "                                                         color_mode = \"grayscale\") #Niveau de gris"
   ]
  },
  {
   "attachments": {},
   "cell_type": "markdown",
   "metadata": {},
   "source": [
    "# Modèle"
   ]
  },
  {
   "cell_type": "code",
   "execution_count": 11,
   "metadata": {},
   "outputs": [],
   "source": [
    "# Instanciation modèle séquentiel\n",
    "lenet = Sequential()\n",
    "\n",
    "# Ajout des différentes couches\n",
    "lenet.add(Conv2D(filters = 30 , kernel_size = (5,5), input_shape =[256,256,1], activation = \"relu\"))\n",
    "lenet.add(MaxPooling2D(pool_size = (2,2)))\n",
    "\n",
    "lenet.add(Conv2D(filters = 16, kernel_size = (3,3), activation = \"relu\"))\n",
    "lenet.add(MaxPooling2D(pool_size = (2,2)))\n",
    "\n",
    "lenet.add(Flatten())\n",
    "lenet.add(Dropout(rate = 0.2))\n",
    "\n",
    "lenet.add(Dense(units = 128, activation = \"relu\"))\n",
    "lenet.add(Dense(units = 4, activation = \"softmax\"))\n",
    "\n",
    "# Compilation\n",
    "lenet.compile(loss = \"sparse_categorical_crossentropy\", optimizer = \"Adam\", metrics = [\"accuracy\"]) #LR default 10-3"
   ]
  },
  {
   "cell_type": "code",
   "execution_count": 12,
   "metadata": {},
   "outputs": [
    {
     "name": "stderr",
     "output_type": "stream",
     "text": [
      "C:\\Users\\Nina\\AppData\\Local\\Temp\\ipykernel_17768\\4147302214.py:5: UserWarning: `Model.fit_generator` is deprecated and will be removed in a future version. Please use `Model.fit`, which supports generators.\n",
      "  history = lenet.fit_generator(train_generator,\n"
     ]
    },
    {
     "name": "stdout",
     "output_type": "stream",
     "text": [
      "Epoch 1/15\n",
      "38/38 [==============================] - 166s 4s/step - loss: 64.1068 - accuracy: 0.4596 - val_loss: 1.0790 - val_accuracy: 0.5476\n",
      "Epoch 2/15\n",
      "38/38 [==============================] - 137s 4s/step - loss: 0.8352 - accuracy: 0.6791 - val_loss: 0.9153 - val_accuracy: 0.6481\n",
      "Epoch 3/15\n",
      "38/38 [==============================] - 146s 4s/step - loss: 0.5195 - accuracy: 0.7933 - val_loss: 0.8822 - val_accuracy: 0.6931\n",
      "Epoch 4/15\n",
      "38/38 [==============================] - 138s 4s/step - loss: 0.3306 - accuracy: 0.8928 - val_loss: 1.0873 - val_accuracy: 0.6667\n",
      "Epoch 5/15\n",
      "38/38 [==============================] - 165s 4s/step - loss: 0.2255 - accuracy: 0.9313 - val_loss: 1.1928 - val_accuracy: 0.6667\n",
      "Epoch 6/15\n",
      "38/38 [==============================] - 133s 3s/step - loss: 0.1700 - accuracy: 0.9493 - val_loss: 1.2087 - val_accuracy: 0.6720\n",
      "Epoch 7/15\n",
      "38/38 [==============================] - 152s 4s/step - loss: 0.1297 - accuracy: 0.9653 - val_loss: 1.3207 - val_accuracy: 0.6931\n",
      "Epoch 8/15\n",
      "38/38 [==============================] - 122s 3s/step - loss: 0.1080 - accuracy: 0.9743 - val_loss: 1.2990 - val_accuracy: 0.6455\n",
      "Epoch 9/15\n",
      "38/38 [==============================] - 178s 5s/step - loss: 0.3237 - accuracy: 0.8935 - val_loss: 1.5061 - val_accuracy: 0.6058\n",
      "Epoch 10/15\n",
      "38/38 [==============================] - 168s 4s/step - loss: 0.2672 - accuracy: 0.8979 - val_loss: 1.9346 - val_accuracy: 0.6481\n",
      "Epoch 11/15\n",
      "38/38 [==============================] - 173s 5s/step - loss: 0.1565 - accuracy: 0.9525 - val_loss: 2.3400 - val_accuracy: 0.6667\n",
      "Epoch 12/15\n",
      "38/38 [==============================] - 228s 6s/step - loss: 0.1169 - accuracy: 0.9641 - val_loss: 2.1079 - val_accuracy: 0.6640\n",
      "Epoch 13/15\n",
      "38/38 [==============================] - 171s 4s/step - loss: 0.0822 - accuracy: 0.9756 - val_loss: 2.3429 - val_accuracy: 0.6587\n",
      "Epoch 14/15\n",
      "38/38 [==============================] - 115s 3s/step - loss: 0.0425 - accuracy: 0.9859 - val_loss: 2.0619 - val_accuracy: 0.6667\n",
      "Epoch 15/15\n",
      "38/38 [==============================] - 101s 3s/step - loss: 0.0642 - accuracy: 0.9840 - val_loss: 2.2966 - val_accuracy: 0.6508\n"
     ]
    }
   ],
   "source": [
    "# Entrainement modèle\n",
    "train_size = train_generator.samples\n",
    "test_size = test_generator.samples\n",
    "\n",
    "history = lenet.fit_generator(train_generator,\n",
    "                              epochs = NB_EPOCHS,\n",
    "                              steps_per_epoch = train_size // BATCH_SIZE,\n",
    "                              validation_data = test_generator,\n",
    "                              validation_steps = test_size // BATCH_SIZE)"
   ]
  },
  {
   "attachments": {},
   "cell_type": "markdown",
   "metadata": {},
   "source": [
    "# Evaluation"
   ]
  },
  {
   "cell_type": "code",
   "execution_count": 13,
   "metadata": {},
   "outputs": [
    {
     "data": {
      "image/png": "[encoded data removed]",
      "text/plain": [
       "<Figure size 1600x500 with 2 Axes>"
      ]
     },
     "metadata": {},
     "output_type": "display_data"
    }
   ],
   "source": [
    "# Courbes d'accuracy et de perte\n",
    "plt.figure(figsize = (16,5))\n",
    "\n",
    "plt.subplot(121)\n",
    "plt.plot(history.history[\"accuracy\"], label = \"Train\")\n",
    "plt.plot(history.history[\"val_accuracy\"], label = \"Test\")\n",
    "plt.legend()\n",
    "plt.xlabel(\"epoch\")\n",
    "plt.ylabel(\"accuracy\")\n",
    "plt.title(\"Accuracy\")\n",
    "\n",
    "plt.subplot(122)\n",
    "plt.plot(history.history[\"loss\"], label = \"Train\")\n",
    "plt.plot(history.history[\"val_loss\"], label = \"Test\")\n",
    "plt.legend()\n",
    "plt.xlabel(\"epoch\")\n",
    "plt.ylabel(\"loss\")\n",
    "plt.ylim(0,2)\n",
    "plt.title(\"Loss\")\n",
    "plt.show();"
   ]
  },
  {
   "cell_type": "code",
   "execution_count": 14,
   "metadata": {},
   "outputs": [
    {
     "name": "stdout",
     "output_type": "stream",
     "text": [
      "10/10 [==============================] - 10s 548ms/step\n"
     ]
    }
   ],
   "source": [
    "# Calcul des prédictions (probabilités)\n",
    "test_generator.reset()\n",
    "test_pred_lenet = lenet.predict(test_generator, verbose = 1 )"
   ]
  },
  {
   "cell_type": "code",
   "execution_count": 15,
   "metadata": {},
   "outputs": [
    {
     "name": "stdout",
     "output_type": "stream",
     "text": [
      "[[113  31  13  48]\n",
      " [ 37   6   3  20]\n",
      " [ 17   7   0   4]\n",
      " [ 48  15   6  32]]\n"
     ]
    }
   ],
   "source": [
    "# Récupération des classes à partir des probabilités\n",
    "test_pred_lenet_class = test_pred_lenet.argmax(axis = 1)\n",
    "\n",
    "# Matrice de confusion\n",
    "print(confusion_matrix(test[\"label\"].astype(\"int\"), test_pred_lenet_class)) ##Pb ICI ?"
   ]
  },
  {
   "cell_type": "code",
   "execution_count": 16,
   "metadata": {},
   "outputs": [
    {
     "name": "stdout",
     "output_type": "stream",
     "text": [
      "              precision    recall  f1-score   support\n",
      "\n",
      "           0       0.53      0.55      0.54       205\n",
      "           1       0.10      0.09      0.10        66\n",
      "           2       0.00      0.00      0.00        28\n",
      "           3       0.31      0.32      0.31       101\n",
      "\n",
      "    accuracy                           0.38       400\n",
      "   macro avg       0.23      0.24      0.24       400\n",
      "weighted avg       0.36      0.38      0.37       400\n",
      "\n"
     ]
    }
   ],
   "source": [
    "print(classification_report(test[\"label\"].astype(\"int\"), test_pred_lenet_class)) ##Pb ICI ?"
   ]
  }
 ],
 "metadata": {
  "kernelspec": {
   "display_name": "base",
   "language": "python",
   "name": "python3"
  },
  "language_info": {
   "codemirror_mode": {
    "name": "ipython",
    "version": 3
   },
   "file_extension": ".py",
   "mimetype": "text/x-python",
   "name": "python",
   "nbconvert_exporter": "python",
   "pygments_lexer": "ipython3",
   "version": "3.9.13"
  },
  "orig_nbformat": 4
 },
 "nbformat": 4,
 "nbformat_minor": 2
}
