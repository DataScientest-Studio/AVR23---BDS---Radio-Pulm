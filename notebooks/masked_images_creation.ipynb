{
 "cells": [
  {
   "attachments": {},
   "cell_type": "markdown",
   "id": "00d01f39",
   "metadata": {},
   "source": [
    "# Imports"
   ]
  },
  {
   "cell_type": "code",
   "execution_count": 1,
   "id": "aacdbd4b",
   "metadata": {},
   "outputs": [],
   "source": [
    "import os\n",
    "\n",
    "from torchvision import transforms\n",
    "\n",
    "from PIL import Image\n"
   ]
  },
  {
   "attachments": {},
   "cell_type": "markdown",
   "id": "956b92cf",
   "metadata": {},
   "source": [
    "# Config"
   ]
  },
  {
   "cell_type": "code",
   "execution_count": 5,
   "id": "485f00fb",
   "metadata": {},
   "outputs": [],
   "source": [
    "#A modifier\n",
    "path = \"C:/Users/Nina/Documents/GitHub/AVR23---BDS---Radio-Pulm/data/\"  \n",
    "##################################################################\n",
    "\n",
    "dirs = [\"Normal/images/\",\"COVID/images/\",\"Lung_Opacity/images/\",\"Viral Pneumonia/images/\"]\n",
    "dirsm = [\"Normal/masks/\",\"COVID/masks/\",\"Lung_Opacity/masks/\",\"Viral Pneumonia/masks/\"]\n",
    "dirsim = [\"Normal/masked_images/\",\"COVID/masked_images/\",\"Lung_Opacity/masked_images/\",\"Viral Pneumonia/masked_images/\"]\n",
    "\n",
    "SIZE = (256,256)"
   ]
  },
  {
   "attachments": {},
   "cell_type": "markdown",
   "id": "8dbb130f",
   "metadata": {},
   "source": [
    "# Traitement des images"
   ]
  },
  {
   "attachments": {},
   "cell_type": "markdown",
   "id": "85c713a4",
   "metadata": {},
   "source": [
    "### Pré processing"
   ]
  },
  {
   "cell_type": "code",
   "execution_count": 3,
   "id": "0ce2314b",
   "metadata": {},
   "outputs": [],
   "source": [
    "# Pipeline de pre-proccessing ( mise a niveaux des gris, resize)\n",
    "dataTransformsM = transforms.Compose([\n",
    "        transforms.Grayscale(),\n",
    "        transforms.Resize(SIZE),\n",
    "        transforms.ToTensor(),\n",
    "    ])"
   ]
  },
  {
   "attachments": {},
   "cell_type": "markdown",
   "id": "6e7b50e7",
   "metadata": {},
   "source": [
    "### Création des images masquées"
   ]
  },
  {
   "cell_type": "code",
   "execution_count": 6,
   "id": "4a021b9b",
   "metadata": {},
   "outputs": [
    {
     "name": "stdout",
     "output_type": "stream",
     "text": [
      "Chargement de :  Normal/images/\n",
      "Chargement de :  Normal/masks/\n"
     ]
    }
   ],
   "source": [
    "# Création des dossiers des images masquées\n",
    "for dirName, dirMask, dirsIM in zip(dirs,dirsm,dirsim):\n",
    "    print(\"Chargement de : \", dirName)\n",
    "    print(\"Chargement de : \", dirMask)\n",
    "\n",
    "    # Création du dossier image mask dans chaque dossier \n",
    "    os.mkdir(path+dirsIM)\n",
    "\n",
    "    for filenames, filemasks in zip(os.walk(path+dirName),os.walk(path+dirMask)):\n",
    "        for filename,filemask in zip(filenames[2][:500],filemasks[2][:500]): ### A CHANGER ICI SEULEMENT 2000 IMAGES DONT 500 DE CHAQUE CATEGORIE\n",
    "            # Chargement de l'image\n",
    "            img = Image.open(path+dirName+filename)\n",
    "            mask = Image.open(path+dirMask+filemask)\n",
    "            # Transformation\n",
    "            img = dataTransformsM(img)\n",
    "            mask = dataTransformsM(mask)\n",
    "            # Application du masque pixel par pixel\n",
    "            for k in range(len(mask[0])):\n",
    "                for j in range(len(mask[0][k])):\n",
    "                    if (mask[0][k][j] == 0):\n",
    "                        img[0][k][j] = 0\n",
    "                        \n",
    "            # Enregistrement de l'image\n",
    "            image_pil = transforms.functional.to_pil_image(img)\n",
    "            image_pil.save(path+dirsIM+filename)\n",
    "            # Elle porte le meme nom que l'image dont elle est issue"
   ]
  }
 ],
 "metadata": {
  "kernelspec": {
   "display_name": "Python 3 (ipykernel)",
   "language": "python",
   "name": "python3"
  },
  "language_info": {
   "codemirror_mode": {
    "name": "ipython",
    "version": 3
   },
   "file_extension": ".py",
   "mimetype": "text/x-python",
   "name": "python",
   "nbconvert_exporter": "python",
   "pygments_lexer": "ipython3",
   "version": "3.9.13"
  }
 },
 "nbformat": 4,
 "nbformat_minor": 5
}
